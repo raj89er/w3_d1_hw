{
 "cells": [
  {
   "cell_type": "markdown",
   "id": "1942f417-eb98-48d7-ac00-f9dcc1b21be5",
   "metadata": {},
   "source": [
    "Exercise #1 - Turn the shopping cart program into an object-oriented program"
   ]
  },
  {
   "cell_type": "code",
   "execution_count": 1,
   "id": "8182132f-b6a4-4f98-96f5-3a3a178d591f",
   "metadata": {},
   "outputs": [
    {
     "name": "stdout",
     "output_type": "stream",
     "text": [
      "Menu:\n",
      "1. Add item to cart\n",
      "2. Remove item from cart\n",
      "3. Display cart\n",
      "4. Quit\n"
     ]
    },
    {
     "name": "stdout",
     "output_type": "stream",
     "text": [
      "Enter your choice:  4\n"
     ]
    },
    {
     "name": "stdout",
     "output_type": "stream",
     "text": [
      "Your cart is empty.\n",
      "Thank you for shopping with us!\n"
     ]
    }
   ],
   "source": [
    "class Cart:\n",
    "    def __init__(self):\n",
    "        self.cart = []\n",
    "    \n",
    "    def add(self):\n",
    "        name = input(\"Enter the name of the item: \")\n",
    "        quantity = float(input(\"Enter the quantity: \"))\n",
    "        price = float(input(\"Enter the price per unit: \"))\n",
    "        self.cart.append({\"name\": name, \"quantity\": quantity, \"price\": price})\n",
    "        print(f\"{name} added to the cart.\")\n",
    "    \n",
    "    def remove(self):\n",
    "        name = input(\"Enter the name of the item you want to remove: \")\n",
    "        for item in self.cart:\n",
    "            if item[\"name\"] == name:\n",
    "                self.cart.remove(item)\n",
    "                print(f\"{name} removed from the cart.\")\n",
    "                break\n",
    "        else:\n",
    "            print(f\"{name} is not in the cart.\")\n",
    "    \n",
    "    def show(self):\n",
    "        if not self.cart:\n",
    "            print(\"Your cart is empty.\")\n",
    "        else:\n",
    "            total_cost = 0\n",
    "            print(\"Items in your cart:\")\n",
    "            for item in self.cart:\n",
    "                total_cost += item[\"quantity\"] * item[\"price\"]\n",
    "                print(f\"{item['name']} - Quantity: {item['quantity']}, Price: ${item['price']}\")\n",
    "            print(f\"Total cost: ${total_cost:.2f}\")\n",
    "\n",
    "def main():\n",
    "    cart = Cart()\n",
    "    while True:\n",
    "        print(\"Menu:\")\n",
    "        print(\"1. Add item to cart\")\n",
    "        print(\"2. Remove item from cart\")\n",
    "        print(\"3. Display cart\")\n",
    "        print(\"4. Quit\")\n",
    "\n",
    "        choice = input(\"Enter your choice: \")\n",
    "\n",
    "        if choice == '1':\n",
    "            cart.add()\n",
    "        elif choice == '2':\n",
    "            cart.remove()\n",
    "        elif choice == '3':\n",
    "            cart.show()\n",
    "        elif choice == '4':\n",
    "            cart.show()\n",
    "            print(\"Thank you for shopping with us!\")\n",
    "            break\n",
    "        else:\n",
    "            print(\"Invalid choice. Please choose again.\")\n",
    "\n",
    "\n",
    "main()"
   ]
  },
  {
   "cell_type": "markdown",
   "id": "174ae92a-4bfe-4203-adde-6beb2ec995d4",
   "metadata": {},
   "source": [
    "Exercise #2 - Write a Python class for an Animal that has a name and energy attributes. The animal class should also have methods for eat, sleep, and play that will take in an integer and increase/decrease the energy of the animal with a formatted print statement"
   ]
  },
  {
   "cell_type": "code",
   "execution_count": 6,
   "id": "81ddfb94-6f2f-4700-a270-22d7d6bb8e3b",
   "metadata": {},
   "outputs": [
    {
     "name": "stdout",
     "output_type": "stream",
     "text": [
      "Buddy is playing for 5 minutes.\n",
      "His energy is now 5\n",
      "Buddy is sleeping for 10 minutes.\n",
      "His energy is now 105\n"
     ]
    }
   ],
   "source": [
    "# Example 1\n",
    "# buddy = Animal('Buddy', 10)\n",
    "# buddy.play(5) -> \"Buddy is playing for 5 minutes. His energy is now 5\"\n",
    "# buddy.sleep(10) -> \"Buddy is sleeping for 10 minutes. His energy is now 15\"\n",
    "\n",
    "\n",
    "class Animal:\n",
    "    def __init__(self, name, energy):\n",
    "        self.name = name\n",
    "        self.energy = energy\n",
    "\n",
    "    def eat(self, food):\n",
    "        self.energy += food\n",
    "        print(f\"{self.name} ate {food} units of food.\")\n",
    "        print(f\"His energy is now {self.energy}\")\n",
    "\n",
    "    def sleep(self, hours):\n",
    "        self.energy += hours * 10\n",
    "        print(f\"{self.name} is sleeping for {hours} minutes.\")\n",
    "        print(f\"His energy is now {self.energy}\")\n",
    "\n",
    "    def play(self, time):\n",
    "        self.energy -= time\n",
    "        print(f\"{self.name} is playing for {time} minutes.\")\n",
    "        print(f\"His energy is now {self.energy}\")\n",
    "\n",
    "        \n",
    "buddy = Animal('Buddy', 10)\n",
    "buddy.play(5)\n",
    "buddy.sleep(10)"
   ]
  },
  {
   "cell_type": "code",
   "execution_count": null,
   "id": "8ee3ee3f-125f-4a33-add0-c3fcc0d006f9",
   "metadata": {},
   "outputs": [],
   "source": []
  },
  {
   "cell_type": "code",
   "execution_count": null,
   "id": "824a548d-1e39-429a-8f36-6304a21eac89",
   "metadata": {},
   "outputs": [],
   "source": []
  }
 ],
 "metadata": {
  "kernelspec": {
   "display_name": "Python 3 (ipykernel)",
   "language": "python",
   "name": "python3"
  },
  "language_info": {
   "codemirror_mode": {
    "name": "ipython",
    "version": 3
   },
   "file_extension": ".py",
   "mimetype": "text/x-python",
   "name": "python",
   "nbconvert_exporter": "python",
   "pygments_lexer": "ipython3",
   "version": "3.11.7"
  }
 },
 "nbformat": 4,
 "nbformat_minor": 5
}
